{
  "nbformat": 4,
  "nbformat_minor": 0,
  "metadata": {
    "colab": {
      "provenance": []
    },
    "kernelspec": {
      "name": "python3",
      "display_name": "Python 3"
    },
    "language_info": {
      "name": "python"
    }
  },
  "cells": [
    {
      "cell_type": "code",
      "execution_count": null,
      "metadata": {
        "id": "v7N1Wwp9W1HJ"
      },
      "outputs": [],
      "source": [
        "from google.colab import files\n",
        "import io\n",
        "\n",
        "uploaded = files.upload()\n",
        "uploaded\n",
        "\n",
        "import pandas as pd\n",
        "\n",
        "planilha_desatualizada = pd.read_excel(\"NomeDoArquivo.xlsx\")\n",
        "planilha_atualizada = pd.read_excel(\"NomeDoArquivo.xlsx\")\n",
        "\n",
        "coluna_comum = \"NomeUnidade\"\n",
        "\n",
        "planilha_mesclada = pd.merge(planilha_desatualizada, planilha_atualizada, on=coluna_comum, how=\"left\", indicator=True)\n",
        "\n",
        "entradas_desatualizadas = planilha_mesclada[planilha_mesclada[\"_merge\"] == \"left_only\"]\n",
        "\n",
        "entradas_desatualizadas = entradas_desatualizadas.drop(columns=\"_merge\")\n",
        "\n",
        "caminho_planilha_resultante = \"dado_desatualizadas_com_status.xlsx\"\n",
        "entradas_desatualizadas.to_excel(caminho_planilha_resultante, index=False)\n",
        "\n",
        "# Exibir as primeiras linhas da tabela resultante\n",
        "print(entradas_desatualizadas.head())"
      ]
    }
  ]
}